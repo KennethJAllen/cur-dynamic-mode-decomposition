{
 "cells": [
  {
   "cell_type": "code",
   "execution_count": 1,
   "metadata": {},
   "outputs": [],
   "source": [
    "import pandas as pd\n",
    "import numpy as np\n",
    "from numpy import linalg as LA\n",
    "from matplotlib import pyplot as plt\n",
    "from src import dmd"
   ]
  },
  {
   "attachments": {},
   "cell_type": "markdown",
   "metadata": {},
   "source": [
    "# Data"
   ]
  },
  {
   "cell_type": "code",
   "execution_count": 2,
   "metadata": {},
   "outputs": [],
   "source": [
    "sales_train_evaluation = pd.read_csv('data/sales_train_evaluation.csv')\n",
    "sample_submission = pd.read_csv('data/sample_submission.csv')"
   ]
  },
  {
   "attachments": {},
   "cell_type": "markdown",
   "metadata": {},
   "source": [
    "# Functions"
   ]
  },
  {
   "cell_type": "code",
   "execution_count": 3,
   "metadata": {},
   "outputs": [],
   "source": [
    "def submission_format(predicted_sales_validation, predicted_sales_evaluation):\n",
    "    submission = sample_submission.copy()\n",
    "    num_forecasts = 28\n",
    "    submission[submission.columns[1:num_forecasts+1]] = np.concatenate((predicted_sales_validation, predicted_sales_evaluation), axis=0)\n",
    "    return submission"
   ]
  },
  {
   "attachments": {},
   "cell_type": "markdown",
   "metadata": {},
   "source": [
    "# Forecasting"
   ]
  },
  {
   "cell_type": "code",
   "execution_count": 4,
   "metadata": {},
   "outputs": [],
   "source": [
    "num_days_evaluation = 1941\n",
    "num_forecasts = 28\n",
    "rank = 10\n",
    "\n",
    "sales_validation = sales_train_evaluation.iloc[:,-num_days_evaluation:-num_forecasts].to_numpy()"
   ]
  },
  {
   "cell_type": "code",
   "execution_count": null,
   "metadata": {},
   "outputs": [],
   "source": [
    "predicted_sales_cur_dmd = dmd.forecast(sales_validation, rank, num_forecasts, 'cur')\n",
    "# set negative sales to zero\n",
    "predicted_sales_cur_dmd[predicted_sales_cur_dmd<0]=0\n",
    "\n",
    "predicted_sales_svd_dmd = dmd.forecast(sales_validation, rank, num_forecasts, 'svd')\n",
    "# set negative sales to zero\n",
    "predicted_sales_svd_dmd[predicted_sales_svd_dmd<0]=0"
   ]
  },
  {
   "attachments": {},
   "cell_type": "markdown",
   "metadata": {},
   "source": [
    "# Error Analysis"
   ]
  },
  {
   "cell_type": "code",
   "execution_count": null,
   "metadata": {},
   "outputs": [],
   "source": [
    "true_sales = sales_train_evaluation.iloc[:,-num_forecasts:].to_numpy()"
   ]
  },
  {
   "cell_type": "code",
   "execution_count": null,
   "metadata": {},
   "outputs": [],
   "source": [
    "relative_error_cur_dmd = LA.norm(true_sales - predicted_sales_cur_dmd)/LA.norm(true_sales)\n",
    "print(f\"The relative error for the CUR DMD is {relative_error_cur_dmd}.\")"
   ]
  },
  {
   "cell_type": "code",
   "execution_count": null,
   "metadata": {},
   "outputs": [],
   "source": [
    "relative_error_svd_dmd = LA.norm(true_sales - predicted_sales_svd_dmd)/LA.norm(true_sales)\n",
    "print(f\"The relative error for the SVD DMD is {relative_error_svd_dmd}.\")"
   ]
  },
  {
   "cell_type": "code",
   "execution_count": null,
   "metadata": {},
   "outputs": [],
   "source": [
    "true_sales.shape"
   ]
  },
  {
   "attachments": {},
   "cell_type": "markdown",
   "metadata": {},
   "source": [
    "# Plots"
   ]
  },
  {
   "cell_type": "code",
   "execution_count": null,
   "metadata": {},
   "outputs": [],
   "source": [
    "forecast_days = np.arange(1,num_forecasts+1)\n",
    "plt.plot(forecast_days, predicted_sales_svd_dmd.sum(axis=0), label = \"predicted by SVD DMD\")\n",
    "plt.plot(forecast_days, predicted_sales_cur_dmd.sum(axis=0), label = \"predicted by CUR DMD\")\n",
    "plt.plot(forecast_days, true_sales.sum(axis=0), label = \"actual\")\n",
    "plt.legend()\n",
    "plt.show()"
   ]
  }
 ],
 "metadata": {
  "kernelspec": {
   "display_name": ".venv",
   "language": "python",
   "name": "python3"
  },
  "language_info": {
   "codemirror_mode": {
    "name": "ipython",
    "version": 3
   },
   "file_extension": ".py",
   "mimetype": "text/x-python",
   "name": "python",
   "nbconvert_exporter": "python",
   "pygments_lexer": "ipython3",
   "version": "3.12.2"
  },
  "orig_nbformat": 4
 },
 "nbformat": 4,
 "nbformat_minor": 2
}
